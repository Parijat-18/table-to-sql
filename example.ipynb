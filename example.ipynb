{
 "cells": [
  {
   "cell_type": "markdown",
   "metadata": {},
   "source": [
    "# SQL CREATE - INSERT SCRIPT GENERATOR"
   ]
  },
  {
   "cell_type": "code",
   "execution_count": 1,
   "metadata": {},
   "outputs": [],
   "source": [
    "from table_sql import table_to_sql"
   ]
  },
  {
   "cell_type": "code",
   "execution_count": 2,
   "metadata": {},
   "outputs": [],
   "source": [
    "# table_to_sql(\"<TABLE NAME>\"\" , \"<IMAGE PATH>\"\")\n",
    "tsql = table_to_sql(\"PRODUCT\" , \"table.png\") \n",
    "tsql.img_to_txt()"
   ]
  },
  {
   "cell_type": "code",
   "execution_count": 3,
   "metadata": {},
   "outputs": [],
   "source": [
    "# add seperators to split each word in the text file\n",
    "# clean the text file so that each row is in one line.",
    "tsql.txt_preprocess(sep=['|'])  #refer the \"example.txt\" file"
   ]
  },
  {
   "cell_type": "code",
   "execution_count": 4,
   "metadata": {},
   "outputs": [
    {
     "name": "stdout",
     "output_type": "stream",
     "text": [
      "Pno VARCHAR(4) PRIMARY KEY\n",
      "Description VARCHAR(20)\n",
      "\"Profit%\" INTEGER\n",
      "Unit VARCHAR(10) DEFAULT 'Piece'\n",
      "QtyOnHand INTEGER\n",
      "ReorderLv1 INTEGER\n",
      "SellPrice INTEGER\n",
      "CostPrice INTEGER\n",
      "CREATE TABLE PRODUCT(\n",
      "\tPno VARCHAR(4) PRIMARY KEY, \n",
      "\tDescription VARCHAR(20), \n",
      "\t\"Profit%\" INTEGER, \n",
      "\tUnit VARCHAR(10) DEFAULT 'Piece', \n",
      "\tQtyOnHand INTEGER, \n",
      "\tReorderLv1 INTEGER, \n",
      "\tSellPrice INTEGER, \n",
      "\tCostPrice INTEGER);\n",
      "INSERT INTO PRODUCT VALUES('PoO1', 'T-shirts', 5, 'Piece', 200, 50, 350, 250);\n",
      "INSERT INTO PRODUCT VALUES('P345', 'Shirts', 6, 'Piece', 150, 50, 500, 350);\n",
      "INSERT INTO PRODUCT VALUES('P456', 'Jeans', 5, 'Piece', 100, 20, 600, 450);\n",
      "INSERT INTO PRODUCT VALUES('P786', 'Trousers', 5, 'Piece', 100, 20, 950, 750);\n",
      "INSERT INTO PRODUCT VALUES('P900', 'PullOvers', '2.5', 'Piece', 150, 50, 850, 550);\n",
      "INSERT INTO PRODUCT VALUES('P231', 'Denims', 4, 'Piece', 80, 30, 600, 450);\n",
      "INSERT INTO PRODUCT VALUES('P965', 'LycraTops', 5, 'Piece', 100, 40, 350, 250);\n",
      "INSERT INTO PRODUCT VALUES('P780', 'Skirts', 5, 'Piece', 70, 30, 300, 175);\n"
     ]
    }
   ],
   "source": [
    "tsql.sql_create()\n",
    "tsql.sql_insert()"
   ]
  },
  {
   "cell_type": "code",
   "execution_count": 5,
   "metadata": {},
   "outputs": [
    {
     "name": "stdout",
     "output_type": "stream",
     "text": [
      "CREATE TABLE PRODUCT(\n",
      "\tPno VARCHAR(4) PRIMARY KEY, \n",
      "\tDescription VARCHAR(20), \n",
      "\t\"Profit%\" INTEGER, \n",
      "\tUnit VARCHAR(10) DEFAULT 'Piece', \n",
      "\tQtyOnHand INTEGER, \n",
      "\tReorderLv1 INTEGER, \n",
      "\tSellPrice INTEGER, \n",
      "\tCostPrice INTEGER);\n",
      "[\"INSERT INTO PRODUCT VALUES('PoO1', 'T-shirts', 5, 'Piece', 200, 50, 350, 250);\", \"INSERT INTO PRODUCT VALUES('P345', 'Shirts', 6, 'Piece', 150, 50, 500, 350);\", \"INSERT INTO PRODUCT VALUES('P456', 'Jeans', 5, 'Piece', 100, 20, 600, 450);\", \"INSERT INTO PRODUCT VALUES('P786', 'Trousers', 5, 'Piece', 100, 20, 950, 750);\", \"INSERT INTO PRODUCT VALUES('P900', 'PullOvers', '2.5', 'Piece', 150, 50, 850, 550);\", \"INSERT INTO PRODUCT VALUES('P231', 'Denims', 4, 'Piece', 80, 30, 600, 450);\", \"INSERT INTO PRODUCT VALUES('P965', 'LycraTops', 5, 'Piece', 100, 40, 350, 250);\", \"INSERT INTO PRODUCT VALUES('P780', 'Skirts', 5, 'Piece', 70, 30, 300, 175);\"]\n"
     ]
    }
   ],
   "source": [
    "print(tsql.create_str)\n",
    "print(tsql.insert_str)"
   ]
  },
  {
   "cell_type": "code",
   "execution_count": null,
   "metadata": {},
   "outputs": [],
   "source": []
  }
 ],
 "metadata": {
  "interpreter": {
   "hash": "d7dadea416afbc86413a9c9b9fb8ddc05a3e87d3f5dbb088eabd6e49e45b1aca"
  },
  "kernelspec": {
   "display_name": "Python 3.9.7 64-bit",
   "language": "python",
   "name": "python3"
  },
  "language_info": {
   "codemirror_mode": {
    "name": "ipython",
    "version": 3
   },
   "file_extension": ".py",
   "mimetype": "text/x-python",
   "name": "python",
   "nbconvert_exporter": "python",
   "pygments_lexer": "ipython3",
   "version": "3.9.7"
  },
  "orig_nbformat": 4
 },
 "nbformat": 4,
 "nbformat_minor": 2
}
